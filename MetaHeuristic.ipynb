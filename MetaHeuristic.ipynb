{
  "cells": [
    {
      "cell_type": "markdown",
      "metadata": {
        "id": "M6uJ4Sh319sG"
      },
      "source": [
        "# Trabalho final de Metaheurísticas - *problema do caixeiro viajante*\n",
        "\n",
        "- Disciplina: Meta-heurística\n",
        "- Prof: Marcos Ribeiro Quinet de Andrade\n",
        "- Alunos: Bruno Sumar e Cassiano de Souza Santos"
      ]
    },
    {
      "cell_type": "markdown",
      "metadata": {
        "id": "1HuQkD_2YWWA"
      },
      "source": [
        "# Importando bibliotecas"
      ]
    },
    {
      "cell_type": "code",
      "execution_count": null,
      "metadata": {
        "id": "uur2X_qY2LGr"
      },
      "outputs": [],
      "source": [
        "from itertools import combinations\n",
        "from copy import deepcopy\n",
        "from pprint import pformat\n",
        "import numpy as np\n",
        "import sys\n",
        "import requests\n",
        "import time"
      ]
    },
    {
      "cell_type": "markdown",
      "metadata": {
        "id": "LlBTkjP0YcbY"
      },
      "source": [
        "# Declaração de constantes"
      ]
    },
    {
      "cell_type": "code",
      "execution_count": null,
      "metadata": {
        "id": "jRK8fWUTETAw"
      },
      "outputs": [],
      "source": [
        "# target_url = \"https://people.sc.fsu.edu/~jburkardt/datasets/tsp/five_d.txt\"\n",
        "# solution_url = \"https://people.sc.fsu.edu/~jburkardt/datasets/tsp/five_s.txt\"\n",
        "\n",
        "# target_url = \"https://people.sc.fsu.edu/~jburkardt/datasets/tsp/fri26_d.txt\"\n",
        "# solution_url = \"https://people.sc.fsu.edu/~jburkardt/datasets/tsp/fri26_s.txt\"\n",
        "\n",
        "target_url = \"https://people.sc.fsu.edu/~jburkardt/datasets/tsp/att48_d.txt\"\n",
        "solution_url = \"https://people.sc.fsu.edu/~jburkardt/datasets/tsp/att48_s.txt\"\n",
        "\n",
        "MAX_ITER = 1500\n",
        "MATRIX_SIZE = 1"
      ]
    },
    {
      "cell_type": "markdown",
      "metadata": {
        "id": "e1TVTZEGYhRd"
      },
      "source": [
        "# Método de leitura da base de dados"
      ]
    },
    {
      "cell_type": "code",
      "execution_count": null,
      "metadata": {
        "id": "GJMFSzFE2QxK"
      },
      "outputs": [],
      "source": [
        "def read_file_url(url) -> list:\n",
        "    # Read file with distances between cities from url\n",
        "    response = requests.get(url)\n",
        "    data = response.text   \n",
        "      \n",
        "    lines = []\n",
        "    # remove space and tab from file\n",
        "    for line in data.split(\"\\n\"):\n",
        "        list_with_no_space = []\n",
        "        for value in line.split(\" \"):\n",
        "            if value != \"\" or value == None:\n",
        "                list_with_no_space.append(int(float(value)))\n",
        "        if len(list_with_no_space) > 0:\n",
        "            lines.append(list_with_no_space)\n",
        "\n",
        "    return lines"
      ]
    },
    {
      "cell_type": "markdown",
      "metadata": {
        "id": "aePAKt3bYuw0"
      },
      "source": [
        "# Métodos auxiliares"
      ]
    },
    {
      "cell_type": "code",
      "execution_count": null,
      "metadata": {
        "id": "84y-y3rk2VdU"
      },
      "outputs": [],
      "source": [
        "def generate_number() -> int:\n",
        "    return np.random.randint(0, MATRIX_SIZE, 1)[0]"
      ]
    },
    {
      "cell_type": "code",
      "execution_count": null,
      "metadata": {
        "id": "QpUDTg842g7a"
      },
      "outputs": [],
      "source": [
        "def check_cost(combination: list, matrix: list) -> list:\n",
        "    sum = 0\n",
        "    for index in range(len(combination)-1):\n",
        "        sum += matrix[combination[index]][combination[index+1]]\n",
        "    return sum"
      ]
    },
    {
      "cell_type": "code",
      "execution_count": null,
      "metadata": {
        "id": "SupIq_hAvE7g"
      },
      "outputs": [],
      "source": [
        "def insertion_cost(matrix: list, i: int, r: int, j: int) -> int:\n",
        "    return matrix[i][r] + matrix[r][j] - matrix[i][j]"
      ]
    },
    {
      "cell_type": "code",
      "execution_count": null,
      "metadata": {
        "id": "JzA7l87DrTHx"
      },
      "outputs": [],
      "source": [
        "def swap_items(arr: list, indices: list) -> list:\n",
        "    arr = arr.copy()\n",
        "    arr[indices[0]], arr[indices[1]] = arr[indices[1]], arr[indices[0]]\n",
        "    return arr"
      ]
    },
    {
      "cell_type": "code",
      "execution_count": null,
      "metadata": {
        "id": "w1odQyjai00D"
      },
      "outputs": [],
      "source": [
        "def relink(arr: list, previous: int, value: int) -> list:\n",
        "    arr = arr.copy()\n",
        "    arr.remove(value)\n",
        "    index = arr.index( previous ) + 1 \n",
        "    arr.insert(index, value)\n",
        "    return arr"
      ]
    },
    {
      "cell_type": "markdown",
      "metadata": {
        "id": "v7N2PZ7sY84M"
      },
      "source": [
        "# Métodos construtivos"
      ]
    },
    {
      "cell_type": "code",
      "execution_count": null,
      "metadata": {
        "id": "8N0dyKHf2aId"
      },
      "outputs": [],
      "source": [
        "def closest_neighbor(matrix: list) -> list:\n",
        "    matrix = deepcopy(matrix)\n",
        "    min_value = None\n",
        "    already_read = []\n",
        "    sum = 0\n",
        "    random_number = generate_number()\n",
        "\n",
        "    for row in range((len(matrix)-1)):\n",
        "\n",
        "        # Resource to prevent loop\n",
        "        if len(already_read) != 0:\n",
        "            for vertex in already_read:\n",
        "                matrix[random_number][vertex] = 0\n",
        "\n",
        "        for value in matrix[random_number]:\n",
        "\n",
        "            if value == 0:\n",
        "                continue\n",
        "\n",
        "            else:\n",
        "                if min_value == None:\n",
        "                    min_value = int(value)\n",
        "                else:\n",
        "                    if value < min_value:\n",
        "                        min_value = int(value)\n",
        "\n",
        "        already_read.append(random_number)\n",
        "\n",
        "        random_number = matrix[random_number].index(min_value)\n",
        "\n",
        "        sum += min_value\n",
        "\n",
        "        min_value = None\n",
        "\n",
        "    sum += max(matrix[already_read[0]])\n",
        "    already_read.append(random_number)\n",
        "    already_read.append(already_read[0]) # Return to the first place\n",
        "\n",
        "    return [already_read, sum]"
      ]
    },
    {
      "cell_type": "code",
      "execution_count": null,
      "metadata": {
        "id": "gjclymuZleX1"
      },
      "outputs": [],
      "source": [
        "def cheapest_insertion(matrix: list) -> list:\n",
        "\n",
        "    random_number = generate_number()\n",
        "    solution = [ random_number ]\n",
        "    \n",
        "    remaining = [ n for n in range( len(matrix) )]\n",
        "    remaining.remove( random_number )\n",
        "    combs = [ c for c in combinations( remaining, 2)]\n",
        "\n",
        "    best_comb = 0\n",
        "    best_i_cost = insertion_cost(matrix, random_number, combs[0][0], combs[0][1])\n",
        "    for index, (r, j) in enumerate( combs[1:] ):\n",
        "        i_cost = insertion_cost(matrix, random_number, r, j)\n",
        "        if best_i_cost > i_cost:\n",
        "            best_comb = index + 1\n",
        "            best_i_cost = i_cost\n",
        "            \n",
        "    solution.append(combs[best_comb][0])\n",
        "    remaining.remove(combs[best_comb][0])\n",
        "\n",
        "    solution.append(combs[best_comb][1])\n",
        "    remaining.remove(combs[best_comb][1])\n",
        "    \n",
        "    num_iter = len(remaining)\n",
        "    for _ in range(num_iter):\n",
        "\n",
        "        best_x = remaining[0]\n",
        "        best_pos = 0\n",
        "        best_i_cost = insertion_cost(matrix, solution[0], best_x, solution[1])\n",
        "        for x in remaining[1:]:\n",
        "            \n",
        "            for pos in range(len(solution)-1)[1:]:\n",
        "                i_cost = insertion_cost(matrix, solution[pos], x, solution[pos+1])\n",
        "                \n",
        "                if best_i_cost > i_cost:\n",
        "                    best_x = x\n",
        "                    best_pos = pos\n",
        "                    best_i_cost = i_cost\n",
        "                         \n",
        "        solution.insert(best_pos+1, best_x)\n",
        "        remaining.remove(best_x)\n",
        "\n",
        "    solution.append(solution[0])\n",
        "\n",
        "    return [solution, check_cost(solution, matrix)]"
      ]
    },
    {
      "cell_type": "markdown",
      "metadata": {
        "id": "BU9GwodGZBGi"
      },
      "source": [
        "# Métodos de refinamento"
      ]
    },
    {
      "cell_type": "code",
      "execution_count": null,
      "metadata": {
        "id": "6h_9zX2zm319"
      },
      "outputs": [],
      "source": [
        "def random_descent(solution: list, cost: int, matrix: list, max_iter: int, _) -> list:\n",
        "\n",
        "    cur_solution = solution.copy()\n",
        "    cur_cost = cost\n",
        "\n",
        "    tam = len( matrix ) - 1\n",
        "    combs = [ [i+1, j+1] for [i, j] in combinations(range(tam), 2)]\n",
        "    indices = [ i for i in combs]\n",
        "    np.random.shuffle(indices)\n",
        "\n",
        "    for i in range( min(max_iter, len(indices)) ):\n",
        "        neighbor = swap_items(cur_solution, indices[i])\n",
        "        \n",
        "        n_cost = check_cost(neighbor, matrix)\n",
        "\n",
        "        if n_cost < cur_cost:\n",
        "            cur_cost = n_cost\n",
        "            cur_solution = neighbor\n",
        "\n",
        "    return [cur_solution, cur_cost]"
      ]
    },
    {
      "cell_type": "code",
      "execution_count": null,
      "metadata": {
        "id": "wmDXlp9j1t_J"
      },
      "outputs": [],
      "source": [
        "def path_relinking(solution: list, cost: int, matrix: list, max_iter: int, target_solution: list) -> list:\n",
        "\n",
        "    if target_solution == None :\n",
        "        return solution, cost\n",
        "\n",
        "    target_solution = target_solution.copy()\n",
        "\n",
        "    cur_solution = solution.copy()\n",
        "    cur_cost = cost\n",
        "\n",
        "    best_solution = cur_solution.copy()\n",
        "    best_cost = cur_cost\n",
        "\n",
        "    for index in range( len(cur_solution) - 2 ):\n",
        "        cur_solution = relink(cur_solution[:-1], target_solution[index], target_solution[index+1])\n",
        "        cur_solution.append( cur_solution[0] )\n",
        "        cur_cost = check_cost( cur_solution, matrix )\n",
        "\n",
        "        if cur_cost < best_cost:\n",
        "            best_solution = cur_solution\n",
        "            best_cost = cur_cost\n",
        "\n",
        "    return [best_solution, best_cost]"
      ]
    },
    {
      "cell_type": "markdown",
      "metadata": {
        "id": "pglz1S2pZE_3"
      },
      "source": [
        "# GRASP"
      ]
    },
    {
      "cell_type": "code",
      "execution_count": null,
      "metadata": {
        "id": "gwfpH_hs1EJz"
      },
      "outputs": [],
      "source": [
        "def grasp(max_iter: int, construct, refinement) -> list:\n",
        "\n",
        "    best_solution = None\n",
        "    best_cost = sys.maxsize\n",
        "\n",
        "    for i in range(max_iter):\n",
        "        solution, cost = construct(MATRIX)\n",
        "        solution, cost = refinement(solution, cost, MATRIX, max_iter, best_solution)\n",
        "\n",
        "        if cost < best_cost :\n",
        "            best_cost = cost\n",
        "            best_solution = solution\n",
        "        \n",
        "    return [best_solution, best_cost]"
      ]
    },
    {
      "cell_type": "markdown",
      "metadata": {
        "id": "Fd0i5M2nZOAO"
      },
      "source": [
        "# Carregamento dos dados"
      ]
    },
    {
      "cell_type": "code",
      "execution_count": null,
      "metadata": {
        "colab": {
          "base_uri": "https://localhost:8080/"
        },
        "id": "HQSa3e7b7zhT",
        "outputId": "4a9040c2-92ef-4d55-e4e9-8ebce8e8f384"
      },
      "outputs": [
        {
          "name": "stdout",
          "output_type": "stream",
          "text": [
            "Reading set of 48 cities\n"
          ]
        }
      ],
      "source": [
        "# Loading intercity distance matrix\n",
        "MATRIX = read_file_url( target_url )\n",
        "MATRIX_SIZE = len( MATRIX )\n",
        "print(\"Reading set of %d cities\" % ( MATRIX_SIZE ))\n",
        "\n",
        "# Loading itinerary that minimizes the total distance\n",
        "SOLUTION = [ n-1 for n in np.array( read_file_url(solution_url) ).transpose()[0] ]\n",
        "if len( SOLUTION ) < MATRIX_SIZE + 1 :\n",
        "    SOLUTION.append( SOLUTION[0] ) \n",
        "SOLUTION_COST = check_cost( SOLUTION, MATRIX ) "
      ]
    },
    {
      "cell_type": "markdown",
      "metadata": {
        "id": "qIhFWdJ0ZWDc"
      },
      "source": [
        "# Solução"
      ]
    },
    {
      "cell_type": "code",
      "execution_count": null,
      "metadata": {
        "colab": {
          "base_uri": "https://localhost:8080/"
        },
        "id": "C6tHX7dcZ_8r",
        "outputId": "e02c68ea-0b9e-4d31-e554-e83ac8d5def3"
      },
      "outputs": [
        {
          "name": "stdout",
          "output_type": "stream",
          "text": [
            ">> Itinerary that minimizes the total distance:\n",
            "\n",
            "    Total distance: 33551\n",
            "    Itinerary:      [0, 7, 37, 30, 43, 17, 6, 27, 5, 36, 18,\n",
            "                    26, 16, 42, 29, 35, 45, 32, 19, 46, 20,\n",
            "                    31, 38, 47, 4, 41, 23, 9, 44, 34, 3, 25,\n",
            "                    1, 28, 33, 40, 15, 21, 2, 22, 13, 24,\n",
            "                    12, 10, 11, 14, 39, 8, 0]\n"
          ]
        }
      ],
      "source": [
        "print(\">> Itinerary that minimizes the total distance:\\n\")\n",
        "print(\"    Total distance: %s\" % ( SOLUTION_COST ))\n",
        "print(\"    Itinerary:      \", end = '')\n",
        "formatted = pformat(SOLUTION, width=60, compact=True, indent=20)\n",
        "formatted = formatted if len(formatted) <= 60 else ''.join( swap_items([c for c in formatted], [0,19])[19:] )\n",
        "print(formatted)"
      ]
    },
    {
      "cell_type": "markdown",
      "metadata": {
        "id": "M5vHJ13zZgtz"
      },
      "source": [
        "# Execução do método GRASP"
      ]
    },
    {
      "cell_type": "code",
      "execution_count": null,
      "metadata": {
        "colab": {
          "base_uri": "https://localhost:8080/"
        },
        "id": "9NcyYNxVw0HN",
        "outputId": "717c5903-1132-4626-f60f-b047d7b0195c"
      },
      "outputs": [
        {
          "name": "stdout",
          "output_type": "stream",
          "text": [
            "\n",
            ">>  Using closest_neighbor and random_descent:\n",
            "\n",
            "    Total distance: 35634\n",
            "    Error:          6.2%\n",
            "    Exceution time: 15.945 seconds\n",
            "    Itinerary:      [34, 44, 9, 23, 41, 4, 47, 38, 31, 20,\n",
            "                    46, 10, 22, 13, 24, 12, 39, 14, 11, 19,\n",
            "                    32, 45, 43, 6, 35, 27, 5, 36, 18, 16,\n",
            "                    42, 26, 29, 17, 30, 37, 8, 0, 7, 21, 15,\n",
            "                    2, 33, 40, 28, 1, 25, 3, 34] \n",
            "\n",
            ">>  Using closest_neighbor and path_relinking:\n",
            "\n",
            "    Total distance: 37704\n",
            "    Error:          12.4%\n",
            "    Exceution time: 3.436 seconds\n",
            "    Itinerary:      [22, 10, 11, 19, 32, 45, 14, 39, 18, 36,\n",
            "                    5, 29, 26, 42, 16, 27, 6, 17, 35, 43,\n",
            "                    30, 37, 8, 0, 7, 21, 15, 2, 33, 40, 41,\n",
            "                    9, 23, 44, 34, 25, 3, 1, 28, 4, 47, 38,\n",
            "                    31, 20, 46, 12, 24, 13, 22] \n",
            "\n",
            ">>  Using cheapest_insertion and random_descent:\n",
            "\n",
            "    Total distance: 34934\n",
            "    Error:          4.1%\n",
            "    Exceution time: 23.713 seconds\n",
            "    Itinerary:      [44, 23, 9, 41, 31, 38, 24, 13, 12, 20,\n",
            "                    46, 19, 32, 14, 45, 35, 29, 42, 16, 26,\n",
            "                    18, 36, 5, 27, 6, 17, 43, 30, 37, 8, 7,\n",
            "                    0, 39, 11, 10, 22, 2, 21, 15, 40, 33,\n",
            "                    47, 4, 28, 1, 25, 3, 34, 44] \n",
            "\n",
            ">>  Using cheapest_insertion and path_relinking:\n",
            "\n",
            "    Total distance: 36229\n",
            "    Error:          8.0%\n",
            "    Exceution time: 11.723 seconds\n",
            "    Itinerary:      [25, 3, 34, 44, 9, 23, 31, 38, 24, 12,\n",
            "                    20, 46, 19, 32, 45, 17, 35, 29, 42, 16,\n",
            "                    26, 18, 36, 5, 27, 6, 43, 30, 37, 15, 0,\n",
            "                    7, 8, 39, 14, 11, 10, 22, 2, 21, 40, 33,\n",
            "                    13, 47, 4, 28, 1, 41, 25] \n"
          ]
        }
      ],
      "source": [
        "constructors = [ closest_neighbor, cheapest_insertion ]\n",
        "refinements = [ random_descent, path_relinking]\n",
        "\n",
        "for c in constructors :\n",
        "    for r in refinements :\n",
        "        print(\"\\n>>  Using %s and %s:\\n\" % (c.__name__, r.__name__))\n",
        "        start_time = time.time()\n",
        "        result = grasp(MAX_ITER, c, r)\n",
        "        print(\"    Total distance: %s\" % (result[1]))\n",
        "        print(\"    Error:          %.1f%%\" % ( 100 * (result[1] - SOLUTION_COST) / SOLUTION_COST ))\n",
        "        print(\"    Exceution time: %.3f seconds\" % (time.time() - start_time))\n",
        "        print(\"    Itinerary:      \", end = '')\n",
        "        formatted = pformat(result[0], width=60, compact=True, indent=20)\n",
        "        formatted = formatted if len(formatted) < 60 else ''.join( swap_items([c for c in formatted], [0,19])[19:] )\n",
        "        print(formatted, \"\")"
      ]
    },
    {
      "cell_type": "markdown",
      "metadata": {
        "id": "hY4D3cmSN9yP"
      },
      "source": [
        "# Relatório\n",
        "\n",
        "## Métodos utilizados\n",
        "### Construtivos\n",
        "1. **Vizinho mais próximo** - Primeiramente uma cidade é escolhida aleatoriamente para ser o ponto de partida, em seguida é feita uma busca pela cidade vizinha que tenha o menor custo de distância, repetindo esse processo até que todas as cidades tenham sido visitadas.\n",
        "\n",
        "1. **Inserção mais barata** - Uma cidade é escolhida aleatoriamente, em seguida duas cidades são escolhidas de forma a minimizar o custo de inserção da primeira cidade, depois é feita uma análise dos custos das possíveis inserções das cidades restante, escolhendo o melhor resultado para fazer parte da solução, repetindo esse processo até que todas as cidades tenham sido visitadas.\n",
        "\n",
        "### Refinamento\n",
        "1. **Descida aleatória** (Busca Local) - Com a solução gerada pelo método construtivo, é realizada uma série de pequenas alterações verificando se houve uma melhora do resultado.\n",
        "\n",
        "1. **Reconexão de caminhos** - Partindo de duas soluções, a primeira é alterada pouco a pouco, utilizando a segunda solução como uma guia, verificando se houve uma melhora em cada estágio. \n",
        "\n",
        "## Resultados\n",
        "\n",
        "Analisando todas as combinações de métodos construtivos com os de refinamento, utilizando como base de dados [ATT48](https://people.sc.fsu.edu/~jburkardt/datasets/tsp/att48_d.txt)  o melhor resultado gerado foi utilizando os métodos de inserção mais baratada e descida aleatória, com uma média de 6% de erro e 24 segundos para a conclusão do algoritmo."
      ]
    }
  ],
  "metadata": {
    "colab": {
      "collapsed_sections": [],
      "name": "MetaHeuristic.ipynb",
      "provenance": []
    },
    "kernelspec": {
      "display_name": "Python 3.8.10 64-bit",
      "language": "python",
      "name": "python3"
    },
    "language_info": {
      "name": "python",
      "version": "3.8.10"
    },
    "vscode": {
      "interpreter": {
        "hash": "767d51c1340bd893661ea55ea3124f6de3c7a262a8b4abca0554b478b1e2ff90"
      }
    }
  },
  "nbformat": 4,
  "nbformat_minor": 0
}
